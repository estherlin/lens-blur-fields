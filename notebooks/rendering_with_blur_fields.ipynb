{
 "cells": [
  {
   "cell_type": "code",
   "execution_count": 1,
   "metadata": {},
   "outputs": [
    {
     "ename": "ModuleNotFoundError",
     "evalue": "No module named 'Imath'",
     "output_type": "error",
     "traceback": [
      "\u001b[0;31m---------------------------------------------------------------------------\u001b[0m",
      "\u001b[0;31mModuleNotFoundError\u001b[0m                       Traceback (most recent call last)",
      "Input \u001b[0;32mIn [1]\u001b[0m, in \u001b[0;36m<cell line: 9>\u001b[0;34m()\u001b[0m\n\u001b[1;32m      7\u001b[0m \u001b[38;5;28;01mimport\u001b[39;00m \u001b[38;5;21;01msys\u001b[39;00m\n\u001b[1;32m      8\u001b[0m sys\u001b[38;5;241m.\u001b[39mpath\u001b[38;5;241m.\u001b[39mappend(\u001b[38;5;124m'\u001b[39m\u001b[38;5;124m../\u001b[39m\u001b[38;5;124m'\u001b[39m)\n\u001b[0;32m----> 9\u001b[0m \u001b[38;5;28;01mfrom\u001b[39;00m \u001b[38;5;21;01mutil\u001b[39;00m\u001b[38;5;21;01m.\u001b[39;00m\u001b[38;5;21;01mrenderer\u001b[39;00m \u001b[38;5;28;01mimport\u001b[39;00m Renderer\n",
      "File \u001b[0;32m~/Documents/blur-fields-release/notebooks/../util/renderer.py:4\u001b[0m, in \u001b[0;36m<module>\u001b[0;34m\u001b[0m\n\u001b[1;32m      1\u001b[0m \u001b[38;5;28;01mimport\u001b[39;00m \u001b[38;5;21;01marray\u001b[39;00m\n\u001b[1;32m      2\u001b[0m \u001b[38;5;28;01mimport\u001b[39;00m \u001b[38;5;21;01mos\u001b[39;00m\n\u001b[0;32m----> 4\u001b[0m \u001b[38;5;28;01mimport\u001b[39;00m \u001b[38;5;21;01mImath\u001b[39;00m\n\u001b[1;32m      5\u001b[0m \u001b[38;5;28;01mimport\u001b[39;00m \u001b[38;5;21;01mnumpy\u001b[39;00m \u001b[38;5;28;01mas\u001b[39;00m \u001b[38;5;21;01mnp\u001b[39;00m\n\u001b[1;32m      6\u001b[0m \u001b[38;5;28;01mimport\u001b[39;00m \u001b[38;5;21;01mOpenEXR\u001b[39;00m\n",
      "\u001b[0;31mModuleNotFoundError\u001b[0m: No module named 'Imath'"
     ]
    }
   ],
   "source": [
    "import json\n",
    "import os\n",
    "import sys\n",
    "\n",
    "import numpy as np\n",
    "\n",
    "import sys\n",
    "sys.path.append('../')\n",
    "from util.renderer import Renderer"
   ]
  },
  {
   "cell_type": "code",
   "execution_count": null,
   "metadata": {},
   "outputs": [
    {
     "name": "stdout",
     "output_type": "stream",
     "text": [
      "config={'loss': {'otype': 'RelativeL2'}, 'optimizer': {'otype': 'Adam', 'learning_rate': 1e-05, 'beta1': 0.5, 'beta2': 0.999, 'epsilon': 1e-15, 'l2_reg': 1e-06, 'gamma': 0.98, 'update_step': 100000, 'iterations': 10000001}, 'encoding': {'otype': 'Identity', 'scale': 1.0, 'offset': 0.0, 'n_frequencies': 0}, 'network': {'otype': 'CutlassMLP', 'activation': 'ReLU', 'output_activation': 'None', 'n_neurons': 256, 'n_hidden_layers': 5}}\n"
     ]
    }
   ],
   "source": [
    "ROOT = os.path.join(\"../\")\n",
    "LENS_NAME = \"iphone12pro0-wide\"\n",
    "MODELS_ROOT = os.path.join(ROOT, \"models\", LENS_NAME)\n",
    "config_filename = os.path.join(ROOT, \"config\", \"iphone12pro-wide.json\")\n",
    "model_filename = os.path.join(MODELS_ROOT, \".pth\")\n",
    "\n",
    "# Load in configuration\n",
    "with open(f\"{config_filename}\") as config_file:\n",
    "\tconfig = json.load(config_file)\n",
    "print(f\"{config=}\")"
   ]
  },
  {
   "cell_type": "code",
   "execution_count": null,
   "metadata": {},
   "outputs": [],
   "source": [
    "TEST = \"fox\"\n",
    "IMAGE_ROOT = os.path.join(ROOT, \"imgs\", TEST)\n",
    "image_filename = os.path.join(IMAGE_ROOT, \"image.exr\") # add path to image file\n",
    "\n",
    "N = 121\n",
    "render = Renderer(N=N, model_path=model_filename, config=config)\n",
    "render.load_image(image_path=image_filename, pattern=\"RGGB\")"
   ]
  },
  {
   "cell_type": "code",
   "execution_count": null,
   "metadata": {},
   "outputs": [],
   "source": []
  }
 ],
 "metadata": {
  "kernelspec": {
   "display_name": "csc320-a1",
   "language": "python",
   "name": "python3"
  },
  "language_info": {
   "codemirror_mode": {
    "name": "ipython",
    "version": 3
   },
   "file_extension": ".py",
   "mimetype": "text/x-python",
   "name": "python",
   "nbconvert_exporter": "python",
   "pygments_lexer": "ipython3",
   "version": "3.10.6"
  }
 },
 "nbformat": 4,
 "nbformat_minor": 2
}
